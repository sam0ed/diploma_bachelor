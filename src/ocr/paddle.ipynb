{
 "cells": [
  {
   "cell_type": "code",
   "execution_count": null,
   "id": "58e8303e",
   "metadata": {},
   "outputs": [],
   "source": [
    "import numpy as np\n",
    "import os\n",
    "from paddleocr import PaddleOCR, draw_ocr\n",
    "from PIL import Image"
   ]
  },
  {
   "cell_type": "markdown",
   "id": "208a94af",
   "metadata": {},
   "source": [
    "### Paddle"
   ]
  },
  {
   "cell_type": "code",
   "execution_count": 48,
   "id": "0272717b",
   "metadata": {},
   "outputs": [],
   "source": [
    "FONT_PATH = r'C:/Windows/Fonts/arial.ttf'\n",
    "name = 'mid_petri_1'\n",
    "ext = 'png'\n",
    "\n",
    "img_path = f'../../data/local/{name}.{ext}'\n",
    "# img_path = f'../../data/morphed/{name}.{ext}'\n",
    "# img_path = f'../../data/morphed/{name}_to_zero.{ext}'\n",
    "# img_path = f'../../data/morphed/{name}_hand.{ext}'\n",
    "# img_path = f'../../data/morphed/{name}_1.5_contrast.{ext}'\n",
    "\n",
    "# img_path = f'../../data/superres/upscayl/{name}_upscayl_4x_digital-art-4x.{ext}' \n",
    "\n",
    "# img_path = f'../../data/upscaled/nn/{name}_2.{ext}'\n",
    "# img_path = f'../../data/upscaled/nn/{name}_4.{ext}'\n",
    "img_path = f'../../data/upscaled/nn/cp_2_4.{ext}'\n",
    "\n",
    "# img_path = f'../../data/superres/swinir/{name}.{ext}'\n",
    "\n",
    "Image.open(img_path).show()"
   ]
  },
  {
   "cell_type": "code",
   "execution_count": null,
   "id": "d2aca8ab",
   "metadata": {},
   "outputs": [
    {
     "name": "stdout",
     "output_type": "stream",
     "text": [
      "[2025/04/21 19:50:56] ppocr DEBUG: Namespace(help='==SUPPRESS==', use_gpu=False, use_xpu=False, use_npu=False, use_mlu=False, use_gcu=False, ir_optim=True, use_tensorrt=False, min_subgraph_size=15, precision='fp32', gpu_mem=500, gpu_id=0, image_dir=None, page_num=0, det_algorithm='DB', det_model_dir='C:\\\\Users\\\\samoed/.paddleocr/whl\\\\det\\\\ch\\\\ch_PP-OCRv4_det_infer', det_limit_side_len=960, det_limit_type='max', det_box_type='quad', det_db_thresh=0.3, det_db_box_thresh=0.6, det_db_unclip_ratio=1.5, max_batch_size=10, use_dilation=False, det_db_score_mode='fast', det_east_score_thresh=0.8, det_east_cover_thresh=0.1, det_east_nms_thresh=0.2, det_sast_score_thresh=0.5, det_sast_nms_thresh=0.2, det_pse_thresh=0, det_pse_box_thresh=0.85, det_pse_min_area=16, det_pse_scale=1, scales=[8, 16, 32], alpha=1.0, beta=1.0, fourier_degree=5, rec_algorithm='SVTR_LCNet', rec_model_dir='C:\\\\Users\\\\samoed/.paddleocr/whl\\\\rec\\\\ch\\\\ch_PP-OCRv4_rec_infer', rec_image_inverse=True, rec_image_shape='3, 48, 320', rec_batch_num=6, max_text_length=25, rec_char_dict_path='c:\\\\Users\\\\samoed\\\\miniconda3\\\\envs\\\\paddle_ocr\\\\Lib\\\\site-packages\\\\paddleocr\\\\ppocr\\\\utils\\\\ppocr_keys_v1.txt', use_space_char=True, vis_font_path='./doc/fonts/simfang.ttf', drop_score=0.5, e2e_algorithm='PGNet', e2e_model_dir=None, e2e_limit_side_len=768, e2e_limit_type='max', e2e_pgnet_score_thresh=0.5, e2e_char_dict_path='./ppocr/utils/ic15_dict.txt', e2e_pgnet_valid_set='totaltext', e2e_pgnet_mode='fast', use_angle_cls=False, cls_model_dir='C:\\\\Users\\\\samoed/.paddleocr/whl\\\\cls\\\\ch_ppocr_mobile_v2.0_cls_infer', cls_image_shape='3, 48, 192', label_list=['0', '180'], cls_batch_num=6, cls_thresh=0.9, enable_mkldnn=False, cpu_threads=10, use_pdserving=False, warmup=False, sr_model_dir=None, sr_image_shape='3, 32, 128', sr_batch_num=1, draw_img_save_dir='./inference_results', save_crop_res=False, crop_res_save_dir='./output', use_mp=False, total_process_num=1, process_id=0, benchmark=False, save_log_path='./log_output/', show_log=True, use_onnx=False, onnx_providers=False, onnx_sess_options=False, return_word_box=False, output='./output', table_max_len=488, table_algorithm='TableAttn', table_model_dir=None, merge_no_span_structure=True, table_char_dict_path=None, formula_algorithm='LaTeXOCR', formula_model_dir=None, formula_char_dict_path=None, formula_batch_num=1, layout_model_dir=None, layout_dict_path=None, layout_score_threshold=0.5, layout_nms_threshold=0.5, kie_algorithm='LayoutXLM', ser_model_dir=None, re_model_dir=None, use_visual_backbone=True, ser_dict_path='../train_data/XFUND/class_list_xfun.txt', ocr_order_method=None, mode='structure', image_orientation=False, layout=True, table=True, formula=False, ocr=True, recovery=False, recovery_to_markdown=False, use_pdf2docx_api=False, invert=False, binarize=False, alphacolor=(255, 255, 255), lang='ch', det=True, rec=True, type='ocr', savefile=False, ocr_version='PP-OCRv4', structure_version='PP-StructureV2')\n"
     ]
    },
    {
     "name": "stdout",
     "output_type": "stream",
     "text": [
      "[2025/04/21 19:50:58] ppocr WARNING: Since the angle classifier is not initialized, it will not be used during the forward process\n",
      "[[2411.0, 1341.0], [2446.0, 1341.0], [2446.0, 1365.0], [2411.0, 1365.0]]\n",
      "[[1078.0, 1263.0], [1122.0, 1263.0], [1122.0, 1292.0], [1078.0, 1292.0]]\n",
      "[[1073.0, 1209.0], [1127.0, 1209.0], [1127.0, 1243.0], [1073.0, 1243.0]]\n",
      "[[4065.0, 1033.0], [4114.0, 1033.0], [4114.0, 1073.0], [4065.0, 1073.0]]\n",
      "[[4055.0, 980.0], [4138.0, 980.0], [4138.0, 1033.0], [4055.0, 1033.0]]\n",
      "[[2411.0, 902.0], [2480.0, 902.0], [2480.0, 941.0], [2411.0, 941.0]]\n",
      "[[4065.0, 673.0], [4124.0, 673.0], [4124.0, 712.0], [4065.0, 712.0]]\n",
      "[[3312.0, 653.0], [3395.0, 653.0], [3395.0, 707.0], [3312.0, 707.0]]\n",
      "[[3671.0, 653.0], [3745.0, 653.0], [3745.0, 702.0], [3671.0, 702.0]]\n",
      "[[2598.0, 644.0], [2662.0, 644.0], [2662.0, 687.0], [2598.0, 687.0]]\n",
      "[[4060.0, 624.0], [4143.0, 624.0], [4143.0, 678.0], [4060.0, 678.0]]\n",
      "[[3671.0, 604.0], [3823.0, 604.0], [3823.0, 658.0], [3671.0, 658.0]]\n",
      "[[3286.0, 583.0], [3496.0, 602.0], [3490.0, 670.0], [3280.0, 651.0]]\n",
      "[[2933.0, 604.0], [3066.0, 604.0], [3066.0, 653.0], [2933.0, 653.0]]\n",
      "[[2598.0, 600.0], [2677.0, 600.0], [2677.0, 639.0], [2598.0, 639.0]]\n",
      "[[2212.0, 565.0], [2359.0, 576.0], [2355.0, 625.0], [2208.0, 613.0]]\n",
      "[[261.0, 580.0], [320.0, 580.0], [320.0, 624.0], [261.0, 624.0]]\n",
      "[[251.0, 531.0], [404.0, 531.0], [404.0, 580.0], [251.0, 580.0]]\n",
      "[[3040.0, 447.0], [3614.0, 475.0], [3608.0, 592.0], [3034.0, 564.0]]\n",
      "[[2372.0, 478.0], [2519.0, 478.0], [2519.0, 531.0], [2372.0, 531.0]]\n",
      "[[399.0, 400.0], [768.0, 400.0], [768.0, 487.0], [399.0, 487.0]]\n",
      "[[467.0, 273.0], [512.0, 273.0], [512.0, 302.0], [467.0, 302.0]]\n",
      "[[1978.0, 263.0], [2027.0, 263.0], [2027.0, 302.0], [1978.0, 302.0]]\n",
      "[[463.0, 224.0], [517.0, 224.0], [517.0, 263.0], [463.0, 263.0]]\n",
      "[[1963.0, 218.0], [2038.0, 201.0], [2051.0, 260.0], [1976.0, 277.0]]\n"
     ]
    }
   ],
   "source": [
    "ocr = PaddleOCR(lang='ch') # need to run only once to download and load model into memory\n",
    "ocr.\n",
    "result = ocr.ocr(img_path,rec=False)\n",
    "for idx in range(len(result)):\n",
    "    res = result[idx]\n",
    "    for line in res:\n",
    "        print(line)\n",
    "\n",
    "# draw result\n",
    "\n",
    "result = result[0]\n",
    "image = Image.open(img_path).convert('RGB')\n",
    "im_show = draw_ocr(image, result, txts=None, scores=None, font_path=FONT_PATH)\n",
    "im_show = Image.fromarray(im_show)\n",
    "im_show.show()"
   ]
  }
 ],
 "metadata": {
  "kernelspec": {
   "display_name": "paddle_ocr",
   "language": "python",
   "name": "python3"
  },
  "language_info": {
   "codemirror_mode": {
    "name": "ipython",
    "version": 3
   },
   "file_extension": ".py",
   "mimetype": "text/x-python",
   "name": "python",
   "nbconvert_exporter": "python",
   "pygments_lexer": "ipython3",
   "version": "3.11.11"
  }
 },
 "nbformat": 4,
 "nbformat_minor": 5
}
