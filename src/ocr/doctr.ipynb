{
 "cells": [
  {
   "cell_type": "code",
   "execution_count": 3,
   "id": "79f49f52",
   "metadata": {},
   "outputs": [],
   "source": [
    "from doctr.io import DocumentFile\n",
    "from doctr.models import ocr_predictor\n",
    "from PIL import Image"
   ]
  },
  {
   "cell_type": "code",
   "execution_count": 4,
   "id": "c5ed5135",
   "metadata": {},
   "outputs": [],
   "source": [
    "FONT_PATH = r'C:/Windows/Fonts/arial.ttf'\n",
    "name = 'mid_petri_2'\n",
    "ext = 'png'\n",
    "\n",
    "img_path = f'../../data/local/{name}.{ext}'\n",
    "# img_path = f'../../data/morphed/{name}.{ext}'\n",
    "# img_path = f'../../data/morphed/{name}_to_zero.{ext}'\n",
    "# img_path = f'../../data/morphed/{name}_hand.{ext}'\n",
    "# img_path = f'../../data/morphed/{name}_1.5_contrast.{ext}'\n",
    "\n",
    "# img_path = f'../../data/superres/upscayl/{name}_upscayl_4x_digital-art-4x.{ext}' \n",
    "\n",
    "# img_path = f'../../data/upscaled/nn/{name}_2.{ext}'\n",
    "# img_path = f'../../data/upscaled/nn/{name}_4.{ext}'\n",
    "# img_path = f'../../data/upscaled/nn/cp_2_4.{ext}'\n",
    "\n",
    "# img_path = f'../../data/superres/swinir/{name}.{ext}'\n",
    "\n",
    "Image.open(img_path).show()"
   ]
  },
  {
   "cell_type": "code",
   "execution_count": null,
   "id": "2c4605b9",
   "metadata": {},
   "outputs": [
    {
     "ename": "NameError",
     "evalue": "name 'DocumentFile' is not defined",
     "output_type": "error",
     "traceback": [
      "\u001b[31m---------------------------------------------------------------------------\u001b[39m",
      "\u001b[31mNameError\u001b[39m                                 Traceback (most recent call last)",
      "\u001b[36mCell\u001b[39m\u001b[36m \u001b[39m\u001b[32mIn[1]\u001b[39m\u001b[32m, line 2\u001b[39m\n\u001b[32m      1\u001b[39m \u001b[38;5;66;03m# PDF\u001b[39;00m\n\u001b[32m----> \u001b[39m\u001b[32m2\u001b[39m pdf_doc = \u001b[43mDocumentFile\u001b[49m.from_pdf(\u001b[33m\"\u001b[39m\u001b[33mpath/to/your/doc.pdf\u001b[39m\u001b[33m\"\u001b[39m)\n\u001b[32m      3\u001b[39m \u001b[38;5;66;03m# Image\u001b[39;00m\n\u001b[32m      4\u001b[39m single_img_doc = DocumentFile.from_images(\u001b[33m\"\u001b[39m\u001b[33mpath/to/your/img.jpg\u001b[39m\u001b[33m\"\u001b[39m)\n",
      "\u001b[31mNameError\u001b[39m: name 'DocumentFile' is not defined"
     ]
    }
   ],
   "source": [
    "single_img_doc = DocumentFile.from_images(img_path)"
   ]
  }
 ],
 "metadata": {
  "kernelspec": {
   "display_name": "diploma",
   "language": "python",
   "name": "python3"
  },
  "language_info": {
   "codemirror_mode": {
    "name": "ipython",
    "version": 3
   },
   "file_extension": ".py",
   "mimetype": "text/x-python",
   "name": "python",
   "nbconvert_exporter": "python",
   "pygments_lexer": "ipython3",
   "version": "3.11.11"
  }
 },
 "nbformat": 4,
 "nbformat_minor": 5
}
