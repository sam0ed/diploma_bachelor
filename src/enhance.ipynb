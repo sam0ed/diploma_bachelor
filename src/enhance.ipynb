{
 "cells": [
  {
   "cell_type": "code",
   "execution_count": null,
   "id": "6090dd93",
   "metadata": {},
   "outputs": [],
   "source": [
    "# img_path = '../assets/internet/petri_net_5.png'\n",
    "# img_path = '../assets/local/complex_petri_1.jpg'\n",
    "# img_path = '../assets/local/complex_petri_2_temp.png'\n",
    "# img_path = '../assets/local/mid_petri_1_temp.png'\n",
    "# img_path = '../assets/local/simple_petri_1.jpg'"
   ]
  },
  {
   "cell_type": "code",
   "execution_count": 5,
   "id": "06f7b9b2",
   "metadata": {},
   "outputs": [
    {
     "name": "stdout",
     "output_type": "stream",
     "text": [
      "               Model Name : BSRGAN\n",
      "                   GPU ID : No GPU is available. Use CPU instead.\n",
      "               Input Path : ../assets/local\n",
      "              Output Path : ../assets/postprocessed/superres\n",
      "       Background SR Path : None\n",
      "            Image Details : UnAligned Text Image. It will crop text region using CnSTD, restore, and paste results back.\n",
      " Save LR & SR text layout : False\n",
      "          Restoring  0001 : x4 --> complex_petri_1.jpg\n",
      "          Restoring  0002 : x4 --> complex_petri_2.png\n",
      "          Restoring  0003 : x4 --> complex_petri_2_temp.png\n",
      "          Restoring  0004 : x4 --> complex_petri_3.png\n",
      "          Restoring  0005 : x4 --> complex_petri_3_temp.png\n",
      "          Restoring  0006 : x4 --> mid_petri_1.png\n",
      "          Restoring  0007 : x4 --> mid_petri_1_temp.png\n",
      "          Restoring  0008 : x4 --> mid_petri_2.png\n",
      "          Restoring  0009 : x4 --> mid_petri_2_temp.png\n",
      "          Restoring  0010 : x4 --> simple_petri_1.jpg\n",
      "          Restoring  0011 : x4 --> simple_petri_2.png\n",
      "          Restoring  0012 : x4 --> simple_petri_3.png\n",
      "          Restoring  0013 : x4 --> simple_petri_4.png\n",
      "          Restoring  0014 : x4 --> simple_petri_5.png\n",
      "          Restoring  0015 : x4 --> simple_petri_6.png\n",
      "          Restoring  0016 : x4 --> simple_petri_7.png\n",
      "          Restoring  0017 : x4 --> simple_petri_8.jpg\n",
      "          Restoring  0018 : x4 --> upper_mid_petri_1.png\n"
     ]
    }
   ],
   "source": [
    "from textbsr import textbsr\n",
    "\n",
    "textbsr.bsr(input_path = '../assets/local' , output_path = '../assets/postprocessed/superres')"
   ]
  }
 ],
 "metadata": {
  "kernelspec": {
   "display_name": "play",
   "language": "python",
   "name": "python3"
  },
  "language_info": {
   "codemirror_mode": {
    "name": "ipython",
    "version": 3
   },
   "file_extension": ".py",
   "mimetype": "text/x-python",
   "name": "python",
   "nbconvert_exporter": "python",
   "pygments_lexer": "ipython3",
   "version": "3.9.21"
  }
 },
 "nbformat": 4,
 "nbformat_minor": 5
}
