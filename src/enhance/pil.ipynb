{
 "cells": [
  {
   "cell_type": "code",
   "execution_count": 14,
   "id": "b21e0e91",
   "metadata": {},
   "outputs": [],
   "source": [
    "from PIL import Image, ImageFilter, ImageEnhance"
   ]
  },
  {
   "cell_type": "code",
   "execution_count": 20,
   "id": "cbd3d955",
   "metadata": {},
   "outputs": [],
   "source": [
    "img_path = \"../../data/upscaled/better_res/cp_2.png\"\n",
    "filename = img_path.split('/')[-1].split('.')[0]  # Extract just the filename part\n",
    "img = Image.open(img_path)\n",
    "original_width, original_height = img.size"
   ]
  },
  {
   "cell_type": "code",
   "execution_count": 21,
   "id": "00db32df",
   "metadata": {},
   "outputs": [],
   "source": [
    "factor = 4 # For 2x upscale\n",
    "# resample_filter = Image.NEAREST # Or Image.BILINEAR, Image.BICUBIC, Image.LANCZOS\n",
    "resample_filter = Image.NEAREST # Or Image.NEAREST, Image.BILINEAR, Image.LANCZOS\n",
    "\n",
    "new_width = original_width * factor\n",
    "new_height = original_height * factor"
   ]
  },
  {
   "cell_type": "code",
   "execution_count": 22,
   "id": "f774fa61",
   "metadata": {},
   "outputs": [],
   "source": [
    "resized_img = img.resize((new_width, new_height), resample=resample_filter)\n",
    "resized_img.save(f\"../../data/upscaled/nn/{filename}_{factor}.png\")\n",
    "resized_img.show()"
   ]
  },
  {
   "cell_type": "code",
   "execution_count": 13,
   "id": "5fd0cc74",
   "metadata": {},
   "outputs": [],
   "source": [
    "# Assume 'upscaled_img_pil' is the PIL Image object after upscaling\n",
    "# Convert palette image to RGB before applying filters\n",
    "if resized_img.mode == \"P\":\n",
    "    resized_img = resized_img.convert(\"RGB\")\n",
    "\n",
    "img_sharpened = resized_img.filter(ImageFilter.SHARPEN)\n",
    "\n",
    "# Display or save img_sharpened_pil\n",
    "# img_sharpened_pil.save(\"sharpened_pil.png\")\n",
    "img_sharpened.show()"
   ]
  },
  {
   "cell_type": "code",
   "execution_count": 18,
   "id": "5ed55b81",
   "metadata": {},
   "outputs": [],
   "source": [
    "if resized_img.mode != \"RGB\":\n",
    "    resized_img = resized_img.convert(\"RGB\")\n",
    "\n",
    "# Assume 'upscaled_img_pil' is the PIL Image object after upscaling\n",
    "enhancer = ImageEnhance.Contrast(resized_img)\n",
    "\n",
    "# Enhance contrast. Factor > 1.0 increases contrast. 1.0 is original.\n",
    "# Values like 1.5 or 2.0 are common starting points.\n",
    "factor = 1.5\n",
    "img_contrasted = enhancer.enhance(factor)\n",
    "\n",
    "# Display or save img_contrasted_pil\n",
    "img_contrasted.save((f\"../../data/morphed/{filename}_{factor}_contrast.png\"))\n",
    "img_contrasted.show()"
   ]
  }
 ],
 "metadata": {
  "kernelspec": {
   "display_name": "diploma",
   "language": "python",
   "name": "python3"
  },
  "language_info": {
   "codemirror_mode": {
    "name": "ipython",
    "version": 3
   },
   "file_extension": ".py",
   "mimetype": "text/x-python",
   "name": "python",
   "nbconvert_exporter": "python",
   "pygments_lexer": "ipython3",
   "version": "3.11.11"
  }
 },
 "nbformat": 4,
 "nbformat_minor": 5
}
