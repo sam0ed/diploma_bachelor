{
 "cells": [
  {
   "cell_type": "code",
   "execution_count": 1,
   "id": "9e7c313f",
   "metadata": {},
   "outputs": [
    {
     "name": "stderr",
     "output_type": "stream",
     "text": [
      "c:\\Users\\samoed\\miniconda3\\envs\\play\\lib\\site-packages\\tqdm\\auto.py:21: TqdmWarning: IProgress not found. Please update jupyter and ipywidgets. See https://ipywidgets.readthedocs.io/en/stable/user_install.html\n",
      "  from .autonotebook import tqdm as notebook_tqdm\n"
     ]
    }
   ],
   "source": [
    "from diffusers import StableDiffusionLatentUpscalePipeline, StableDiffusionPipeline\n",
    "import torch\n",
    "from PIL import Image\n",
    "import numpy as np"
   ]
  },
  {
   "cell_type": "code",
   "execution_count": 10,
   "id": "b8bedcfa",
   "metadata": {},
   "outputs": [
    {
     "data": {
      "text/plain": [
       "((560, 432), 'RGB')"
      ]
     },
     "execution_count": 10,
     "metadata": {},
     "output_type": "execute_result"
    }
   ],
   "source": [
    "img_path = \"../../data/local/mid_petri_1.png\"  # Update this path to your image\n",
    "image = Image.open(img_path).convert(\"RGB\")\n",
    "\n",
    "width, height = image.size\n",
    "new_width = (width // 8) * 8\n",
    "new_height = (height // 8) * 8\n",
    "image = image.resize((new_width, new_height))\n",
    "\n",
    "image.size, image.mode"
   ]
  },
  {
   "cell_type": "code",
   "execution_count": null,
   "id": "22d4ac78",
   "metadata": {},
   "outputs": [
    {
     "name": "stderr",
     "output_type": "stream",
     "text": [
      "Loading pipeline components...: 100%|██████████| 5/5 [00:04<00:00,  1.06it/s]\n"
     ]
    }
   ],
   "source": [
    "\n",
    "upscaler = StableDiffusionLatentUpscalePipeline.from_pretrained(\"stabilityai/sd-x2-latent-upscaler\", torch_dtype=torch.float16)\n",
    "# upscaler.to(\"cuda\")\n",
    "generator = torch.manual_seed(33)\n",
    "\n",
    "upscaled_image = upscaler(\n",
    "    prompt=\"ArithmeticError\",\n",
    "    image=image,\n",
    "    num_inference_steps=20,\n",
    "    guidance_scale=0,\n",
    "    generator=generator,\n",
    ").images[0]"
   ]
  }
 ],
 "metadata": {
  "kernelspec": {
   "display_name": "play",
   "language": "python",
   "name": "python3"
  },
  "language_info": {
   "codemirror_mode": {
    "name": "ipython",
    "version": 3
   },
   "file_extension": ".py",
   "mimetype": "text/x-python",
   "name": "python",
   "nbconvert_exporter": "python",
   "pygments_lexer": "ipython3",
   "version": "3.9.21"
  }
 },
 "nbformat": 4,
 "nbformat_minor": 5
}
