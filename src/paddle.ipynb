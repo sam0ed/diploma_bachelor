{
 "cells": [
  {
   "cell_type": "code",
   "execution_count": null,
   "id": "58e8303e",
   "metadata": {},
   "outputs": [
    {
     "name": "stderr",
     "output_type": "stream",
     "text": [
      "c:\\Users\\samoed\\miniconda3\\envs\\paddle_ocr\\Lib\\site-packages\\paddle\\utils\\cpp_extension\\extension_utils.py:711: UserWarning: No ccache found. Please be aware that recompiling all source files may be required. You can download and install ccache from: https://github.com/ccache/ccache/blob/master/doc/INSTALL.md\n",
      "  warnings.warn(warning_message)\n"
     ]
    }
   ],
   "source": [
    "# import cv2\n",
    "# import matplotlib.pyplot as plt\n",
    "import numpy as np\n",
    "import os\n",
    "from paddleocr import PaddleOCR, draw_ocr"
   ]
  },
  {
   "cell_type": "markdown",
   "id": "208a94af",
   "metadata": {},
   "source": [
    "### Paddle"
   ]
  },
  {
   "cell_type": "code",
   "execution_count": 7,
   "id": "0272717b",
   "metadata": {},
   "outputs": [],
   "source": [
    "FONT_PATH = r'C:/Windows/Fonts/arial.ttf'\n",
    "\n",
    "img_path = '../assets/else/sunset-lake-landscape-illustration-free-vector.jpg'\n",
    "img_path = '../assets/else/arrows.png'\n",
    "img_path = '../assets/internet/petri_net_5.png'\n",
    "# img_path = '../assets/local/complex_petri_1.jpg'\n",
    "# img_path = '../assets/local/complex_petri_2_temp.png'\n",
    "img_path = '../assets/local/mid_petri_1_temp.png'\n",
    "# img_path = '../assets/local/simple_petri_1.jpg'\n",
    "# img_path = '../assets/else/dogs.jpeg'\n",
    "# img_path = '../assets/else/overlapped.png'\n",
    "# img_path = '../assets/else/padded_image.png'\n",
    "\n",
    "# img_path = '../assets/postprocessed/superres.jpg'\n",
    "img_path = r'C:\\Users\\samoed\\Desktop\\temp\\complex_petri_2_temp_upscayl_4x_digital-art-4x.png'\n"
   ]
  },
  {
   "cell_type": "code",
   "execution_count": 8,
   "id": "d2aca8ab",
   "metadata": {},
   "outputs": [
    {
     "name": "stdout",
     "output_type": "stream",
     "text": [
      "[2025/04/21 11:53:53] ppocr DEBUG: Namespace(help='==SUPPRESS==', use_gpu=False, use_xpu=False, use_npu=False, use_mlu=False, use_gcu=False, ir_optim=True, use_tensorrt=False, min_subgraph_size=15, precision='fp32', gpu_mem=500, gpu_id=0, image_dir=None, page_num=0, det_algorithm='DB', det_model_dir='C:\\\\Users\\\\samoed/.paddleocr/whl\\\\det\\\\en\\\\en_PP-OCRv3_det_infer', det_limit_side_len=960, det_limit_type='max', det_box_type='quad', det_db_thresh=0.3, det_db_box_thresh=0.6, det_db_unclip_ratio=1.5, max_batch_size=10, use_dilation=False, det_db_score_mode='fast', det_east_score_thresh=0.8, det_east_cover_thresh=0.1, det_east_nms_thresh=0.2, det_sast_score_thresh=0.5, det_sast_nms_thresh=0.2, det_pse_thresh=0, det_pse_box_thresh=0.85, det_pse_min_area=16, det_pse_scale=1, scales=[8, 16, 32], alpha=1.0, beta=1.0, fourier_degree=5, rec_algorithm='SVTR_LCNet', rec_model_dir='C:\\\\Users\\\\samoed/.paddleocr/whl\\\\rec\\\\en\\\\en_PP-OCRv4_rec_infer', rec_image_inverse=True, rec_image_shape='3, 48, 320', rec_batch_num=6, max_text_length=25, rec_char_dict_path='c:\\\\Users\\\\samoed\\\\miniconda3\\\\envs\\\\paddle_ocr\\\\Lib\\\\site-packages\\\\paddleocr\\\\ppocr\\\\utils\\\\en_dict.txt', use_space_char=True, vis_font_path='./doc/fonts/simfang.ttf', drop_score=0.5, e2e_algorithm='PGNet', e2e_model_dir=None, e2e_limit_side_len=768, e2e_limit_type='max', e2e_pgnet_score_thresh=0.5, e2e_char_dict_path='./ppocr/utils/ic15_dict.txt', e2e_pgnet_valid_set='totaltext', e2e_pgnet_mode='fast', use_angle_cls=False, cls_model_dir='C:\\\\Users\\\\samoed/.paddleocr/whl\\\\cls\\\\ch_ppocr_mobile_v2.0_cls_infer', cls_image_shape='3, 48, 192', label_list=['0', '180'], cls_batch_num=6, cls_thresh=0.9, enable_mkldnn=False, cpu_threads=10, use_pdserving=False, warmup=False, sr_model_dir=None, sr_image_shape='3, 32, 128', sr_batch_num=1, draw_img_save_dir='./inference_results', save_crop_res=False, crop_res_save_dir='./output', use_mp=False, total_process_num=1, process_id=0, benchmark=False, save_log_path='./log_output/', show_log=True, use_onnx=False, onnx_providers=False, onnx_sess_options=False, return_word_box=False, output='./output', table_max_len=488, table_algorithm='TableAttn', table_model_dir=None, merge_no_span_structure=True, table_char_dict_path=None, formula_algorithm='LaTeXOCR', formula_model_dir=None, formula_char_dict_path=None, formula_batch_num=1, layout_model_dir=None, layout_dict_path=None, layout_score_threshold=0.5, layout_nms_threshold=0.5, kie_algorithm='LayoutXLM', ser_model_dir=None, re_model_dir=None, use_visual_backbone=True, ser_dict_path='../train_data/XFUND/class_list_xfun.txt', ocr_order_method=None, mode='structure', image_orientation=False, layout=True, table=True, formula=False, ocr=True, recovery=False, recovery_to_markdown=False, use_pdf2docx_api=False, invert=False, binarize=False, alphacolor=(255, 255, 255), lang='en', det=True, rec=True, type='ocr', savefile=False, ocr_version='PP-OCRv4', structure_version='PP-StructureV2')\n",
      "[2025/04/21 11:53:54] ppocr WARNING: Since the angle classifier is not initialized, it will not be used during the forward process\n",
      "[[2396.0, 1331.0], [2451.0, 1331.0], [2451.0, 1370.0], [2396.0, 1370.0]]\n",
      "[[2403.0, 1272.0], [2467.0, 1284.0], [2458.0, 1328.0], [2394.0, 1316.0]]\n",
      "[[1062.0, 1235.0], [1131.0, 1256.0], [1118.0, 1300.0], [1048.0, 1279.0]]\n",
      "[[1058.0, 1194.0], [1147.0, 1194.0], [1147.0, 1248.0], [1058.0, 1248.0]]\n",
      "[[2293.0, 1092.0], [2480.0, 1092.0], [2480.0, 1141.0], [2293.0, 1141.0]]\n",
      "[[945.0, 1009.0], [1151.0, 1009.0], [1151.0, 1058.0], [945.0, 1058.0]]\n",
      "[[4055.0, 980.0], [4129.0, 980.0], [4129.0, 1019.0], [4055.0, 1019.0]]\n",
      "[[2406.0, 946.0], [2465.0, 946.0], [2465.0, 985.0], [2406.0, 985.0]]\n",
      "[[1063.0, 907.0], [1137.0, 907.0], [1137.0, 941.0], [1063.0, 941.0]]\n",
      "[[2401.0, 892.0], [2490.0, 892.0], [2490.0, 946.0], [2401.0, 946.0]]\n",
      "[[4212.0, 809.0], [4434.0, 809.0], [4434.0, 843.0], [4212.0, 843.0]]\n",
      "[[3981.0, 790.0], [4148.0, 790.0], [4148.0, 838.0], [3981.0, 838.0]]\n",
      "[[901.0, 712.0], [1132.0, 712.0], [1132.0, 760.0], [901.0, 760.0]]\n",
      "[[2249.0, 712.0], [2490.0, 712.0], [2490.0, 746.0], [2249.0, 746.0]]\n",
      "[[4060.0, 673.0], [4129.0, 673.0], [4129.0, 712.0], [4060.0, 712.0]]\n",
      "[[4388.0, 650.0], [4447.0, 665.0], [4435.0, 710.0], [4376.0, 695.0]]\n",
      "[[3322.0, 658.0], [3390.0, 658.0], [3390.0, 697.0], [3322.0, 697.0]]\n",
      "[[2928.0, 658.0], [2987.0, 658.0], [2987.0, 692.0], [2928.0, 692.0]]\n",
      "[[3676.0, 653.0], [3735.0, 653.0], [3735.0, 692.0], [3676.0, 692.0]]\n",
      "[[2593.0, 636.0], [2660.0, 651.0], [2652.0, 685.0], [2586.0, 670.0]]\n",
      "[[4050.0, 619.0], [4148.0, 619.0], [4148.0, 673.0], [4050.0, 673.0]]\n",
      "[[2209.0, 619.0], [2269.0, 619.0], [2269.0, 663.0], [2209.0, 663.0]]\n",
      "[[4382.0, 598.0], [4543.0, 611.0], [4540.0, 659.0], [4378.0, 647.0]]\n",
      "[[3292.0, 604.0], [3489.0, 604.0], [3489.0, 653.0], [3292.0, 653.0]]\n",
      "[[2930.0, 594.0], [3077.0, 605.0], [3073.0, 654.0], [2926.0, 643.0]]\n",
      "[[3664.0, 593.0], [3830.0, 606.0], [3826.0, 659.0], [3660.0, 647.0]]\n",
      "[[1752.0, 600.0], [1816.0, 600.0], [1816.0, 639.0], [1752.0, 639.0]]\n",
      "[[2588.0, 590.0], [2687.0, 590.0], [2687.0, 644.0], [2588.0, 644.0]]\n",
      "[[1019.0, 585.0], [1092.0, 585.0], [1092.0, 634.0], [1019.0, 634.0]]\n",
      "[[2209.0, 570.0], [2367.0, 570.0], [2367.0, 619.0], [2209.0, 619.0]]\n",
      "[[251.0, 575.0], [315.0, 575.0], [315.0, 619.0], [251.0, 619.0]]\n",
      "[[1358.0, 570.0], [1407.0, 570.0], [1407.0, 609.0], [1358.0, 609.0]]\n",
      "[[1722.0, 546.0], [1934.0, 546.0], [1934.0, 595.0], [1722.0, 595.0]]\n",
      "[[1019.0, 531.0], [1112.0, 531.0], [1112.0, 585.0], [1019.0, 585.0]]\n",
      "[[241.0, 526.0], [413.0, 526.0], [413.0, 575.0], [241.0, 575.0]]\n",
      "[[1353.0, 522.0], [1496.0, 522.0], [1496.0, 570.0], [1353.0, 570.0]]\n",
      "[[645.0, 522.0], [782.0, 522.0], [782.0, 556.0], [645.0, 556.0]]\n",
      "[[4143.0, 473.0], [4296.0, 473.0], [4296.0, 507.0], [4143.0, 507.0]]\n",
      "[[3986.0, 439.0], [4138.0, 439.0], [4138.0, 473.0], [3986.0, 473.0]]\n",
      "[[1890.0, 395.0], [2052.0, 395.0], [2052.0, 429.0], [1890.0, 429.0]]\n",
      "[[1437.0, 361.0], [1560.0, 361.0], [1560.0, 395.0], [1437.0, 395.0]]\n",
      "[[718.0, 356.0], [910.0, 356.0], [910.0, 390.0], [718.0, 390.0]]\n",
      "[[1279.0, 341.0], [1422.0, 341.0], [1422.0, 375.0], [1279.0, 375.0]]\n",
      "[[3518.0, 317.0], [3563.0, 317.0], [3563.0, 346.0], [3518.0, 346.0]]\n",
      "[[1963.0, 258.0], [2037.0, 258.0], [2037.0, 317.0], [1963.0, 317.0]]\n",
      "[[453.0, 263.0], [507.0, 263.0], [507.0, 307.0], [453.0, 307.0]]\n",
      "[[3509.0, 258.0], [3582.0, 258.0], [3582.0, 297.0], [3509.0, 297.0]]\n",
      "[[3056.0, 234.0], [3277.0, 234.0], [3277.0, 268.0], [3056.0, 268.0]]\n",
      "[[1958.0, 210.0], [2047.0, 210.0], [2047.0, 263.0], [1958.0, 263.0]]\n",
      "[[443.0, 210.0], [531.0, 210.0], [531.0, 263.0], [443.0, 263.0]]\n",
      "[[1476.0, 180.0], [1737.0, 180.0], [1737.0, 214.0], [1476.0, 214.0]]\n"
     ]
    }
   ],
   "source": [
    "ocr = PaddleOCR(lang='en') # need to run only once to download and load model into memory\n",
    "result = ocr.ocr(img_path,rec=False)\n",
    "for idx in range(len(result)):\n",
    "    res = result[idx]\n",
    "    for line in res:\n",
    "        print(line)\n",
    "\n",
    "# draw result\n",
    "from PIL import Image\n",
    "result = result[0]\n",
    "image = Image.open(img_path).convert('RGB')\n",
    "im_show = draw_ocr(image, result, txts=None, scores=None, font_path=FONT_PATH)\n",
    "im_show = Image.fromarray(im_show)\n",
    "im_show.show()"
   ]
  }
 ],
 "metadata": {
  "kernelspec": {
   "display_name": "paddle_ocr",
   "language": "python",
   "name": "python3"
  },
  "language_info": {
   "codemirror_mode": {
    "name": "ipython",
    "version": 3
   },
   "file_extension": ".py",
   "mimetype": "text/x-python",
   "name": "python",
   "nbconvert_exporter": "python",
   "pygments_lexer": "ipython3",
   "version": "3.11.11"
  }
 },
 "nbformat": 4,
 "nbformat_minor": 5
}
